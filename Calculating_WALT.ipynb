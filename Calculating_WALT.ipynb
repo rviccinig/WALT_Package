{
  "nbformat": 4,
  "nbformat_minor": 0,
  "metadata": {
    "colab": {
      "provenance": []
    },
    "kernelspec": {
      "name": "python3",
      "display_name": "Python 3"
    },
    "language_info": {
      "name": "python"
    }
  },
  "cells": [
    {
      "cell_type": "markdown",
      "source": [
        "\n",
        "Testing WALT Calculations\n",
        "---\n",
        "\n"
      ],
      "metadata": {
        "id": "9nnEmcF6ilYT"
      }
    },
    {
      "cell_type": "code",
      "source": [
        "import datetime\n",
        "from dateutil.relativedelta import relativedelta"
      ],
      "metadata": {
        "id": "1inpBbGe4fe3"
      },
      "execution_count": null,
      "outputs": []
    },
    {
      "cell_type": "code",
      "source": [
        "# Projecting WALT\n",
        "########################################################\n",
        "\n",
        "# Current Lease Expiry\n",
        "Expiry = \"12-31-2022\"\n",
        "Expiry = datetime.datetime.strptime(Expiry, \"%m-%d-%Y\")\n",
        "\n",
        "# Future and Today Days\n",
        "Today = datetime.datetime.today()\n",
        "Future = Today+datetime.timedelta(days=365)\n",
        "\n",
        "# Leasing Assumption\n",
        "New_Lease_Start=\"09-01-2023\"\n",
        "New_Lease_Start=datetime.datetime.strptime(New_Lease_Start, \"%m-%d-%Y\")\n",
        "\n",
        "New_Lease_Expiry=\"12-31-2024\"\n",
        "New_Lease_Expiry=datetime.datetime.strptime(New_Lease_Expiry, \"%m-%d-%Y\")\n",
        "\n",
        "#########################################################\n",
        "\n",
        "# Calculate Current WALT\n",
        "WALT=round(((Expiry-Today).days)/365,2)\n",
        "WALT"
      ],
      "metadata": {
        "colab": {
          "base_uri": "https://localhost:8080/"
        },
        "id": "wdQBQbvKlEbq",
        "outputId": "0d8bb8cd-b906-4918-bc12-010af334d25a"
      },
      "execution_count": 115,
      "outputs": [
        {
          "output_type": "execute_result",
          "data": {
            "text/plain": [
              "0.03"
            ]
          },
          "metadata": {},
          "execution_count": 115
        }
      ]
    },
    {
      "cell_type": "code",
      "source": [
        "# You Try to Calculate the WALT 12 months from now. \n",
        "# If the projected WALT is negative it means that the original lease expired.\n",
        "# If it has expired we need to check that the new lease has began and it is not vacant. If it starts after the future date we are quarying then the WALT=0 , if it has not it takes the new expiry and calculates the WALT\n",
        "Proj_WALT=round(((Expiry-Future).days)/365,2)\n",
        "if Proj_WALT<=0:\n",
        "  if New_Lease_Start>=Future:\n",
        "    Proj_WALT=0\n",
        "    print(Proj_WALT)\n",
        "  else:\n",
        "    Assumed_WALT=round(((New_Lease_Expiry-Future).days)/365,2)\n",
        "    print(Assumed_WALT)\n",
        "else:\n",
        "  print(Proj_WALT)\n",
        "\n",
        "\n",
        "\n"
      ],
      "metadata": {
        "colab": {
          "base_uri": "https://localhost:8080/"
        },
        "id": "rvz5iXdjmvpd",
        "outputId": "6fa53bb9-93af-4ec9-c4d9-a7aba75d1cda"
      },
      "execution_count": 116,
      "outputs": [
        {
          "output_type": "stream",
          "name": "stdout",
          "text": [
            "1.03\n"
          ]
        }
      ]
    },
    {
      "cell_type": "markdown",
      "source": [
        "### Package for Calculating WALT"
      ],
      "metadata": {
        "id": "8BMIRwP5gHe9"
      }
    },
    {
      "cell_type": "code",
      "source": [
        "# WALT Component\n",
        "class WALT_CALC():\n",
        "  \n",
        "  import datetime\n",
        "  from dateutil.relativedelta import relativedelta\n",
        "\n",
        "  def __init__(self,Expiry,downtime,new_lease_term):\n",
        "    self.Expiry= datetime.datetime.strptime(Expiry, \"%m-%d-%Y\")\n",
        "    # \"downtime\" in months\n",
        "    self.New_Lease_Start=self.Expiry + relativedelta(months=downtime)\n",
        "    # new_lease_term in in months\n",
        "    self.New_Lease_Expiry=self.New_Lease_Start + relativedelta(months=new_lease_term)\n",
        "    self.Today = datetime.datetime.today()\n",
        "    # Calculte the current\n",
        "    self.WALT=round(((self.Expiry-self.Today).days)/365,2)\n",
        "    if self.WALT <= 0:\n",
        "      self.WALT=0\n",
        "    else:\n",
        "      self.WALT\n",
        "  \n",
        "  def proj_WALT(self,months_proj):\n",
        "    Future= self.Today + relativedelta(months=months_proj)\n",
        "    Proj_WALT=round(((self.Expiry-Future).days)/365,2)\n",
        "    if Proj_WALT<=0:\n",
        "      if self.New_Lease_Start>=Future:\n",
        "        Proj_WALT=0\n",
        "        return Proj_WALT\n",
        "      else:\n",
        "        Assumed_WALT=round(((self.New_Lease_Expiry-Future).days)/365,2)\n",
        "        return Assumed_WALT\n",
        "    else:\n",
        "      return Proj_WALT\n"
      ],
      "metadata": {
        "id": "9u1zsArU0Vco"
      },
      "execution_count": 125,
      "outputs": []
    },
    {
      "cell_type": "code",
      "source": [
        "# Testing the WALT\n",
        "WY_Enterprises=WALT_CALC('12-31-2022',2,60)\n",
        "WY_Enterprises.WALT\n",
        "WY_Enterprises.proj_WALT(months_proj=24)"
      ],
      "metadata": {
        "colab": {
          "base_uri": "https://localhost:8080/"
        },
        "id": "7zovslbK4I5s",
        "outputId": "3c9eeb6e-bc8b-43d3-ce33-ed733e3d69f1"
      },
      "execution_count": 128,
      "outputs": [
        {
          "output_type": "execute_result",
          "data": {
            "text/plain": [
              "3.19"
            ]
          },
          "metadata": {},
          "execution_count": 128
        }
      ]
    },
    {
      "cell_type": "code",
      "source": [
        "#All Stephen Avenue Portfolio Tenants\n",
        "Tenant_Names=[\"Four20\", \"WY\", \"WealthBridge\",\"Kanata\", \"Modern_Steak\"]\n",
        "Tenant_share=[0.14,0.077,0.171,0.078,0.53]\n",
        "Expiries=['06-30-2027','12-31-2022','12-31-2027','01-31-2029','01-31-2031']\n",
        "Downtimes=[6,18,6,6,6]\n",
        "New_terms=[60,60,120,120,120]\n",
        "CURRENT_WALT=[]\n",
        "PROJ_WALT=[]\n",
        "\n",
        "\n",
        "for exp,downt,new_terms in zip(Expiries,Downtimes,New_terms):\n",
        "  my_tenant=WALT_CALC(exp,downt,new_terms)\n",
        "  curWALT=my_tenant.WALT\n",
        "  projWALT=WALT=my_tenant.proj_WALT(months_proj=12)\n",
        "  CURRENT_WALT.append(curWALT)\n",
        "  PROJ_WALT.append(projWALT)\n",
        "\n",
        "ASAP_WALT=0\n",
        "ASAP_PROJ_WALT=0\n",
        "\n",
        "for i,j,k in zip(Tenant,CURRENT_WALT, PROJ_WALT):\n",
        "  \n",
        "  ASAP_WALT+=i*j\n",
        "  ASAP_PROJ_WALT+=i*k\n",
        "\n",
        "print(\"Current WALT (Years): \",str(round(ASAP_WALT,2)),\"; Projected 12-month WALT (Years): \" ,str(round(ASAP_PROJ_WALT,2)))\n"
      ],
      "metadata": {
        "id": "GBfp689L4O4M",
        "colab": {
          "base_uri": "https://localhost:8080/"
        },
        "outputId": "89bdc310-4856-4c3f-cd45-0a2a419071e9"
      },
      "execution_count": 150,
      "outputs": [
        {
          "output_type": "stream",
          "name": "stdout",
          "text": [
            "Current WALT (Years):  4.14 ; Projected 12-month WALT (Years):  3.26\n"
          ]
        }
      ]
    },
    {
      "cell_type": "code",
      "source": [],
      "metadata": {
        "id": "C9KsDMTX4gLu"
      },
      "execution_count": null,
      "outputs": []
    },
    {
      "cell_type": "code",
      "source": [],
      "metadata": {
        "id": "ZDsWXvX44cfO"
      },
      "execution_count": null,
      "outputs": []
    }
  ]
}